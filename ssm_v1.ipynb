{
 "cells": [
  {
   "cell_type": "code",
   "execution_count": 1,
   "id": "54de702e",
   "metadata": {},
   "outputs": [],
   "source": [
    "import numpy as np\n",
    "import matplotlib.pyplot as plt\n",
    "import pandas as pd\n",
    "import os\n",
    "import torch\n"
   ]
  },
  {
   "cell_type": "markdown",
   "id": "2ebd8cd9",
   "metadata": {},
   "source": [
    "Past work:\n",
    "\n",
    "esablish taxonomies to categorize various types of misinformation\n",
    "analyzed topological characteristics of user interactions, linguistic behavior patterns\n",
    "influence of culture and language on spread and perception of misinformation\n",
    "xgboost, tfidf, ensemble of multinomial naive bayes, logistic regre, support vector machine\n",
    "bi-lstm, classification containing gated recurrent unit (gru)"
   ]
  },
  {
   "cell_type": "markdown",
   "id": "a9285e53",
   "metadata": {},
   "source": [
    "multilingual:\n",
    "\n",
    "pre-training on huge corpus across many languages, cross-lingual transfer (applied to others w/o further training)\n",
    "semantic-aware\n",
    "prompt engineering"
   ]
  },
  {
   "cell_type": "markdown",
   "id": "1afc3547",
   "metadata": {},
   "source": [
    "main problems:\n",
    "data scarcity, low data quality, lack of data standardization, increased code-switching\n",
    "low model generalizability, feature limitations, low model explainability, model architectural limitations, computational resource demands\n",
    "linguistic heterogeneity, dynamic nature of fake news, absence of social context, cultural diversity\n",
    "lack of supporting tools, inadequate real-world applications"
   ]
  },
  {
   "cell_type": "markdown",
   "id": "689149ef",
   "metadata": {},
   "source": [
    "problems:\n",
    "\n",
    "limited model generalizability: performance varies btwn languages\n",
    "absence of external knowledge: add features like metadata, linguistic cues, contextual faactors\n",
    "low performance of transfer learning: dependent on linguistic similarity btwn target languages and training corpus\n",
    "machine translation to high resource loses nuance"
   ]
  },
  {
   "cell_type": "markdown",
   "id": "cb661d73",
   "metadata": {},
   "source": [
    "future directions:\n",
    "\n",
    "language-agnostic models\n",
    "group languages based on shared semantic structures or regional similarities\n",
    "multi-modal"
   ]
  },
  {
   "cell_type": "code",
   "execution_count": null,
   "id": "0e39b287",
   "metadata": {},
   "outputs": [],
   "source": []
  }
 ],
 "metadata": {
  "kernelspec": {
   "display_name": "FPExpansion",
   "language": "python",
   "name": "python3"
  },
  "language_info": {
   "codemirror_mode": {
    "name": "ipython",
    "version": 3
   },
   "file_extension": ".py",
   "mimetype": "text/x-python",
   "name": "python",
   "nbconvert_exporter": "python",
   "pygments_lexer": "ipython3",
   "version": "3.12.8"
  }
 },
 "nbformat": 4,
 "nbformat_minor": 5
}
